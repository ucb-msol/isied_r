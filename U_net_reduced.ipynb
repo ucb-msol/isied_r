{
 "cells": [
  {
   "cell_type": "code",
   "execution_count": 33,
   "id": "advanced-edition",
   "metadata": {},
   "outputs": [
    {
     "name": "stdout",
     "output_type": "stream",
     "text": [
      "[0. 1. 2.]\n"
     ]
    }
   ],
   "source": [
    "import scipy.io\n",
    "from sklearn.model_selection import train_test_split\n",
    "import cv2\n",
    "import numpy as np\n",
    "from PIL import ImageOps\n",
    "from PIL import Image\n",
    "\n",
    "mat = scipy.io.loadmat('imData.mat')\n",
    "\n",
    "X = mat[\"t10_X\"]\n",
    "y = mat[\"data_Y\"]\n",
    "\n",
    "X_resize = np.zeros((1000,128,128))\n",
    "y_resize = np.zeros((1000,128,128))\n",
    "\n",
    "# resize(X,(128,128))\n",
    "\n",
    "for i in range(len(X[:,0,0])):\n",
    "    X_resize[i,:,:] = cv2.resize(X[i,:,:],(128,128))\n",
    "    y_resize[i,:,:] = cv2.resize(y[i,:,:],(128,128))\n",
    "    \n",
    "    y_resize[i,:,:] = 0 *(y_resize[i,:,:] >= 0) + 1 *(y_resize[i,:,:] > 40) + 1 * (y_resize[i,:,:] > 170)\n",
    "\n",
    "train_X, test_X, train_Y, test_Y = train_test_split(X_resize, y_resize, test_size=0.1)\n",
    "\n",
    "# im = Image.fromarray(np.uint8(y_resize[1,:,:]*255))\n",
    "# img = ImageOps.autocontrast(im)\n",
    "# img = ImageOps.colorize(im,\"blue\",\"red\",mid = \"green\")\n",
    "# img = ImageOps.autocontrast(img)\n",
    "# plt.imshow(X_resize[1,:,:])\n",
    "# plt.figure()\n",
    "# plt.imshow(y_resize[1,:,:])\n",
    "\n",
    "print(np.unique(np.array(y_resize[1,:,:])))\n",
    "# (train_X,train_Y), (test_X,test_Y) = fashion_mnist.load_data()"
   ]
  },
  {
   "cell_type": "code",
   "execution_count": 34,
   "id": "incoming-torture",
   "metadata": {},
   "outputs": [
    {
     "name": "stdout",
     "output_type": "stream",
     "text": [
      "Training data shape :  (900, 128, 128) (900, 128, 128)\n",
      "Testing data shape :  (100, 128, 128) (100, 128, 128)\n",
      "<class 'numpy.ndarray'>\n"
     ]
    }
   ],
   "source": [
    "import numpy as np\n",
    "import matplotlib.pyplot as plt\n",
    "%matplotlib inline\n",
    "\n",
    "print('Training data shape : ', train_X.shape, train_Y.shape)\n",
    "\n",
    "print('Testing data shape : ', test_X.shape, test_Y.shape)\n",
    "\n",
    "print(type(train_X[0,:,:]))"
   ]
  },
  {
   "cell_type": "code",
   "execution_count": null,
   "id": "global-stage",
   "metadata": {},
   "outputs": [],
   "source": []
  },
  {
   "cell_type": "code",
   "execution_count": 35,
   "id": "american-coral",
   "metadata": {},
   "outputs": [
    {
     "data": {
      "text/plain": [
       "Text(0.5, 1.0, 'Ground Truth')"
      ]
     },
     "execution_count": 35,
     "metadata": {},
     "output_type": "execute_result"
    },
    {
     "data": {
      "image/png": "[encoded data removed]",
      "text/plain": [
       "<Figure size 360x360 with 4 Axes>"
      ]
     },
     "metadata": {
      "needs_background": "light"
     },
     "output_type": "display_data"
    }
   ],
   "source": [
    "'''Also, take a look at what the images in your dataset:\n",
    "The output of above two plots created here looks like an ankle boot, and this \n",
    "class is assigned a class label of 9. Similarly, other fashion \n",
    "products will have different labels, but similar products will have same \n",
    "labels. This means that all the 7,000 ankle boot images will have a class label of 9.'''\n",
    "\n",
    "'''Datasets are a collection of samples of data. The data can be images, audio, text, \n",
    "matrices of numbers or even rows of an Excel spreadsheet. When doing machine learning, \n",
    "you'll usually need a ground-truth dataset. A ground-truth dataset is a regular dataset, \n",
    "but with annotations added to it. '''\n",
    "\n",
    "plt.figure(figsize=[5,5])\n",
    "\n",
    "# Display the first image in training data\n",
    "plt.subplot(221)\n",
    "plt.imshow(train_X[0,:,:], cmap='gray')\n",
    "plt.title(\"Train Example\")\n",
    "plt.subplot(222)\n",
    "plt.imshow(train_Y[0,:,:], cmap='gray')\n",
    "plt.title(\"Ground Truth\")\n",
    "\n",
    "# Display the first image in testing data\n",
    "plt.subplot(223)\n",
    "plt.imshow(test_X[0,:,:], cmap='gray')\n",
    "plt.title(\"Test Example\")\n",
    "plt.subplot(224)\n",
    "plt.imshow(test_Y[0,:,:], cmap='gray')\n",
    "plt.title(\"Ground Truth\")"
   ]
  },
  {
   "cell_type": "code",
   "execution_count": 36,
   "id": "consistent-atlanta",
   "metadata": {},
   "outputs": [
    {
     "data": {
      "text/plain": [
       "((900, 128, 128, 1), (100, 128, 128, 1))"
      ]
     },
     "execution_count": 36,
     "metadata": {},
     "output_type": "execute_result"
    }
   ],
   "source": [
    "'''Data Preprocessing\n",
    "\n",
    "As you could see in the above plot, the images are grayscale images have pixel values \n",
    "that range from 0 to 255. Also, these images have a dimension of 50 x 50. As a result, \n",
    "you'll need to preprocess the data before you feed it into the model. '''\n",
    "\n",
    "'''As a first step, convert each 50 x 50 image of the train and test set into a matrix of \n",
    "size 50 x 50 x 1 which is fed into the network.'''\n",
    "train_X = train_X.reshape(-1, 128,128, 1)\n",
    "test_X = test_X.reshape(-1, 128,128, 1)\n",
    "train_X.shape, test_X.shape"
   ]
  },
  {
   "cell_type": "code",
   "execution_count": 37,
   "id": "increased-doctrine",
   "metadata": {},
   "outputs": [],
   "source": [
    "'''The data right now is in an int8 format, so before you feed it into the network you need to \n",
    "convert its type to float32, and you also have to rescale the pixel values in range 0 - 1 inclusive. \n",
    "Here is code to do that:'''\n",
    "\n",
    "train_X = train_X.astype('float32')\n",
    "test_X = test_X.astype('float32')\n",
    "train_X = train_X/ 255\n",
    "test_X = test_X / 255\n",
    "\n",
    "\n"
   ]
  },
  {
   "cell_type": "code",
   "execution_count": 38,
   "id": "exposed-controversy",
   "metadata": {},
   "outputs": [
    {
     "data": {
      "text/plain": [
       "((720, 128, 128, 1),\n",
       " (180, 128, 128, 1),\n",
       " (720, 128, 128, 1),\n",
       " (180, 128, 128, 1))"
      ]
     },
     "execution_count": 38,
     "metadata": {},
     "output_type": "execute_result"
    }
   ],
   "source": [
    "#PARTITIONING THE DATA\n",
    "'''This last step is a crucial one. In machine learning or any data specific task, \n",
    "you should partition the data correctly. For the model to generalize well, you split \n",
    "the training data into two parts, one designed for training and another one for validation. \n",
    "In this case, you will train the model on 80\\% of the training data and validate it on 20\\% \n",
    "of the remaining training data. This will also help to reduce overfitting since you will be \n",
    "validating the model on the data it would not have seen in training phase, which will help in \n",
    "boosting the test performance.'''\n",
    "\n",
    "#go to Environments/your 3.7environmeny, select Not Installed from drop-down menu, search for \n",
    "#scikit-learn (vers 0.24.1), select it, klick apply button\n",
    "\n",
    "from sklearn.model_selection import train_test_split\n",
    "train_X,valid_X,train_label,valid_label = train_test_split(train_X, train_Y, test_size=0.2, random_state=13)\n",
    "\n",
    "train_label = train_label.reshape(-1, 128,128, 1)\n",
    "valid_label = valid_label.reshape(-1, 128,128, 1)\n",
    "#For one last time let's check the shape of training and validation set.\n",
    "train_X.shape,valid_X.shape,train_label.shape,valid_label.shape"
   ]
  },
  {
   "cell_type": "code",
   "execution_count": 39,
   "id": "official-chain",
   "metadata": {},
   "outputs": [
    {
     "name": "stdout",
     "output_type": "stream",
     "text": [
      "Model: \"model_1\"\n",
      "__________________________________________________________________________________________________\n",
      "Layer (type)                    Output Shape         Param #     Connected to                     \n",
      "==================================================================================================\n",
      "input_1 (InputLayer)            (None, 128, 128, 1)  0                                            \n",
      "__________________________________________________________________________________________________\n",
      "conv2d_1 (Conv2D)               (None, 64, 64, 32)   320         input_1[0][0]                    \n",
      "__________________________________________________________________________________________________\n",
      "batch_normalization_1 (BatchNor (None, 64, 64, 32)   128         conv2d_1[0][0]                   \n",
      "__________________________________________________________________________________________________\n",
      "activation_1 (Activation)       (None, 64, 64, 32)   0           batch_normalization_1[0][0]      \n",
      "__________________________________________________________________________________________________\n",
      "activation_2 (Activation)       (None, 64, 64, 32)   0           activation_1[0][0]               \n",
      "__________________________________________________________________________________________________\n",
      "separable_conv2d_1 (SeparableCo (None, 64, 64, 64)   2400        activation_2[0][0]               \n",
      "__________________________________________________________________________________________________\n",
      "batch_normalization_2 (BatchNor (None, 64, 64, 64)   256         separable_conv2d_1[0][0]         \n",
      "__________________________________________________________________________________________________\n",
      "activation_3 (Activation)       (None, 64, 64, 64)   0           batch_normalization_2[0][0]      \n",
      "__________________________________________________________________________________________________\n",
      "separable_conv2d_2 (SeparableCo (None, 64, 64, 64)   4736        activation_3[0][0]               \n",
      "__________________________________________________________________________________________________\n",
      "batch_normalization_3 (BatchNor (None, 64, 64, 64)   256         separable_conv2d_2[0][0]         \n",
      "__________________________________________________________________________________________________\n",
      "max_pooling2d_1 (MaxPooling2D)  (None, 32, 32, 64)   0           batch_normalization_3[0][0]      \n",
      "__________________________________________________________________________________________________\n",
      "conv2d_2 (Conv2D)               (None, 32, 32, 64)   2112        activation_1[0][0]               \n",
      "__________________________________________________________________________________________________\n",
      "add_1 (Add)                     (None, 32, 32, 64)   0           max_pooling2d_1[0][0]            \n",
      "                                                                 conv2d_2[0][0]                   \n",
      "__________________________________________________________________________________________________\n",
      "activation_4 (Activation)       (None, 32, 32, 64)   0           add_1[0][0]                      \n",
      "__________________________________________________________________________________________________\n",
      "separable_conv2d_3 (SeparableCo (None, 32, 32, 128)  8896        activation_4[0][0]               \n",
      "__________________________________________________________________________________________________\n",
      "batch_normalization_4 (BatchNor (None, 32, 32, 128)  512         separable_conv2d_3[0][0]         \n",
      "__________________________________________________________________________________________________\n",
      "activation_5 (Activation)       (None, 32, 32, 128)  0           batch_normalization_4[0][0]      \n",
      "__________________________________________________________________________________________________\n",
      "separable_conv2d_4 (SeparableCo (None, 32, 32, 128)  17664       activation_5[0][0]               \n",
      "__________________________________________________________________________________________________\n",
      "batch_normalization_5 (BatchNor (None, 32, 32, 128)  512         separable_conv2d_4[0][0]         \n",
      "__________________________________________________________________________________________________\n",
      "max_pooling2d_2 (MaxPooling2D)  (None, 16, 16, 128)  0           batch_normalization_5[0][0]      \n",
      "__________________________________________________________________________________________________\n",
      "conv2d_3 (Conv2D)               (None, 16, 16, 128)  8320        add_1[0][0]                      \n",
      "__________________________________________________________________________________________________\n",
      "add_2 (Add)                     (None, 16, 16, 128)  0           max_pooling2d_2[0][0]            \n",
      "                                                                 conv2d_3[0][0]                   \n",
      "__________________________________________________________________________________________________\n",
      "activation_6 (Activation)       (None, 16, 16, 128)  0           add_2[0][0]                      \n",
      "__________________________________________________________________________________________________\n",
      "conv2d_transpose_1 (Conv2DTrans (None, 16, 16, 128)  147584      activation_6[0][0]               \n",
      "__________________________________________________________________________________________________\n",
      "batch_normalization_6 (BatchNor (None, 16, 16, 128)  512         conv2d_transpose_1[0][0]         \n",
      "__________________________________________________________________________________________________\n",
      "activation_7 (Activation)       (None, 16, 16, 128)  0           batch_normalization_6[0][0]      \n",
      "__________________________________________________________________________________________________\n",
      "conv2d_transpose_2 (Conv2DTrans (None, 16, 16, 128)  147584      activation_7[0][0]               \n",
      "__________________________________________________________________________________________________\n",
      "batch_normalization_7 (BatchNor (None, 16, 16, 128)  512         conv2d_transpose_2[0][0]         \n",
      "__________________________________________________________________________________________________\n",
      "up_sampling2d_2 (UpSampling2D)  (None, 32, 32, 128)  0           add_2[0][0]                      \n",
      "__________________________________________________________________________________________________\n",
      "up_sampling2d_1 (UpSampling2D)  (None, 32, 32, 128)  0           batch_normalization_7[0][0]      \n",
      "__________________________________________________________________________________________________\n",
      "conv2d_4 (Conv2D)               (None, 32, 32, 128)  16512       up_sampling2d_2[0][0]            \n",
      "__________________________________________________________________________________________________\n",
      "add_3 (Add)                     (None, 32, 32, 128)  0           up_sampling2d_1[0][0]            \n",
      "                                                                 conv2d_4[0][0]                   \n",
      "__________________________________________________________________________________________________\n",
      "activation_8 (Activation)       (None, 32, 32, 128)  0           add_3[0][0]                      \n",
      "__________________________________________________________________________________________________\n",
      "conv2d_transpose_3 (Conv2DTrans (None, 32, 32, 64)   73792       activation_8[0][0]               \n",
      "__________________________________________________________________________________________________\n",
      "batch_normalization_8 (BatchNor (None, 32, 32, 64)   256         conv2d_transpose_3[0][0]         \n",
      "__________________________________________________________________________________________________\n",
      "activation_9 (Activation)       (None, 32, 32, 64)   0           batch_normalization_8[0][0]      \n",
      "__________________________________________________________________________________________________\n",
      "conv2d_transpose_4 (Conv2DTrans (None, 32, 32, 64)   36928       activation_9[0][0]               \n",
      "__________________________________________________________________________________________________\n",
      "batch_normalization_9 (BatchNor (None, 32, 32, 64)   256         conv2d_transpose_4[0][0]         \n",
      "__________________________________________________________________________________________________\n",
      "up_sampling2d_4 (UpSampling2D)  (None, 64, 64, 128)  0           add_3[0][0]                      \n",
      "__________________________________________________________________________________________________\n",
      "up_sampling2d_3 (UpSampling2D)  (None, 64, 64, 64)   0           batch_normalization_9[0][0]      \n",
      "__________________________________________________________________________________________________\n",
      "conv2d_5 (Conv2D)               (None, 64, 64, 64)   8256        up_sampling2d_4[0][0]            \n",
      "__________________________________________________________________________________________________\n",
      "add_4 (Add)                     (None, 64, 64, 64)   0           up_sampling2d_3[0][0]            \n",
      "                                                                 conv2d_5[0][0]                   \n",
      "__________________________________________________________________________________________________\n",
      "activation_10 (Activation)      (None, 64, 64, 64)   0           add_4[0][0]                      \n",
      "__________________________________________________________________________________________________\n",
      "conv2d_transpose_5 (Conv2DTrans (None, 64, 64, 32)   18464       activation_10[0][0]              \n",
      "__________________________________________________________________________________________________\n",
      "batch_normalization_10 (BatchNo (None, 64, 64, 32)   128         conv2d_transpose_5[0][0]         \n",
      "__________________________________________________________________________________________________\n",
      "activation_11 (Activation)      (None, 64, 64, 32)   0           batch_normalization_10[0][0]     \n",
      "__________________________________________________________________________________________________\n",
      "conv2d_transpose_6 (Conv2DTrans (None, 64, 64, 32)   9248        activation_11[0][0]              \n",
      "__________________________________________________________________________________________________\n",
      "batch_normalization_11 (BatchNo (None, 64, 64, 32)   128         conv2d_transpose_6[0][0]         \n",
      "__________________________________________________________________________________________________\n",
      "up_sampling2d_6 (UpSampling2D)  (None, 128, 128, 64) 0           add_4[0][0]                      \n",
      "__________________________________________________________________________________________________\n",
      "up_sampling2d_5 (UpSampling2D)  (None, 128, 128, 32) 0           batch_normalization_11[0][0]     \n",
      "__________________________________________________________________________________________________\n",
      "conv2d_6 (Conv2D)               (None, 128, 128, 32) 2080        up_sampling2d_6[0][0]            \n",
      "__________________________________________________________________________________________________\n",
      "add_5 (Add)                     (None, 128, 128, 32) 0           up_sampling2d_5[0][0]            \n",
      "                                                                 conv2d_6[0][0]                   \n",
      "__________________________________________________________________________________________________\n",
      "conv2d_7 (Conv2D)               (None, 128, 128, 3)  867         add_5[0][0]                      \n",
      "==================================================================================================\n",
      "Total params: 509,219\n",
      "Trainable params: 507,491\n",
      "Non-trainable params: 1,728\n",
      "__________________________________________________________________________________________________\n"
     ]
    }
   ],
   "source": [
    "import keras\n",
    "from keras import layers\n",
    "# from keras.layers import Resizing\n",
    "\n",
    "\n",
    "\n",
    "def get_model(img_size, num_classes):\n",
    "    inputs = keras.Input(shape=img_size + (1,))\n",
    "\n",
    "    ### [First half of the network: downsampling inputs] ###\n",
    "\n",
    "    # Entry block\n",
    "    x = layers.Conv2D(32, 3, strides=2, padding=\"same\")(inputs)\n",
    "    x = layers.BatchNormalization()(x)\n",
    "    x = layers.Activation(\"relu\")(x)\n",
    "\n",
    "    previous_block_activation = x  # Set aside residual\n",
    "\n",
    "    # Blocks 1, 2, 3 are identical apart from the feature depth.\n",
    "    for filters in [64, 128]:\n",
    "        x = layers.Activation(\"relu\")(x)\n",
    "        x = layers.SeparableConv2D(filters, 3, padding=\"same\")(x)\n",
    "        x = layers.BatchNormalization()(x)\n",
    "\n",
    "        x = layers.Activation(\"relu\")(x)\n",
    "        x = layers.SeparableConv2D(filters, 3, padding=\"same\")(x)\n",
    "        x = layers.BatchNormalization()(x)\n",
    "\n",
    "        x = layers.MaxPooling2D(3, strides=2, padding=\"same\")(x)\n",
    "\n",
    "        # Project residual\n",
    "        residual = layers.Conv2D(filters, 1, strides=2, padding=\"same\")(\n",
    "            previous_block_activation\n",
    "        )\n",
    "        x = layers.add([x, residual])  # Add back residual\n",
    "        previous_block_activation = x  # Set aside next residual\n",
    "\n",
    "    ### [Second half of the network: upsampling inputs] ###\n",
    "\n",
    "    for filters in [128, 64, 32]:\n",
    "        x = layers.Activation(\"relu\")(x)\n",
    "        x = layers.Conv2DTranspose(filters, 3, padding=\"same\")(x)\n",
    "        x = layers.BatchNormalization()(x)\n",
    "\n",
    "        x = layers.Activation(\"relu\")(x)\n",
    "        x = layers.Conv2DTranspose(filters, 3, padding=\"same\")(x)\n",
    "        x = layers.BatchNormalization()(x)\n",
    "\n",
    "        x = layers.UpSampling2D(2)(x)\n",
    "\n",
    "        # Project residual\n",
    "        residual = layers.UpSampling2D(2)(previous_block_activation)\n",
    "        residual = layers.Conv2D(filters, 1, padding=\"same\")(residual)\n",
    "        x = layers.add([x, residual])  # Add back residual\n",
    "        previous_block_activation = x  # Set aside next residual\n",
    "\n",
    "    # Add a per-pixel classification layer\n",
    "    outputs = layers.Conv2D(num_classes, 3, activation=\"softmax\", padding=\"same\")(x)\n",
    "\n",
    "    # Define the model\n",
    "    model = keras.Model(inputs, outputs)\n",
    "    return model\n",
    "\n",
    "\n",
    "# Free up RAM in case the model definition cells were run multiple times\n",
    "keras.backend.clear_session()\n",
    "\n",
    "img_size = (128, 128)\n",
    "num_classes = 3\n",
    "batch_size = 32\n",
    "# Build model\n",
    "model = get_model(img_size, num_classes)\n",
    "model.summary()"
   ]
  },
  {
   "cell_type": "code",
   "execution_count": 40,
   "id": "dressed-graphics",
   "metadata": {},
   "outputs": [
    {
     "name": "stdout",
     "output_type": "stream",
     "text": [
      "Train on 720 samples, validate on 180 samples\n",
      "Epoch 1/2\n",
      "720/720 [==============================] - 131s 182ms/step - loss: 0.6349 - accuracy: 0.9121 - val_loss: 0.6244 - val_accuracy: 0.9482\n",
      "Epoch 2/2\n",
      "720/720 [==============================] - 117s 163ms/step - loss: 0.5715 - accuracy: 0.9797 - val_loss: 0.6067 - val_accuracy: 0.9482\n"
     ]
    }
   ],
   "source": [
    "import tensorflow as tf\n",
    "\n",
    "\n",
    "#TRAIN THE MODEL\n",
    "\n",
    "'''It's finally time to train the model with Keras' fit() function! The model trains for 20 epochs. \n",
    "The fit() function will return a history object; By storying the result of this function \n",
    "in fashion_train, you can use it later to plot the accuracy and loss function plots between \n",
    "training and validation which will help you to analyze your model's performance visually.'''\n",
    "#just changed name here\n",
    "# model.compile(optimizer=\"rmsprop\", loss=\"sparse_categorical_crossentropy\",metrics=['accuracy'])\n",
    "model.compile(optimizer=\"rmsprop\", loss=keras.losses.SparseCategoricalCrossentropy(from_logits=True),metrics=['accuracy'])\n",
    "\n",
    "callbacks = [\n",
    "    keras.callbacks.ModelCheckpoint(\"oxford_segmentation.h5\", save_best_only=True)\n",
    "]\n",
    "\n",
    "tf.config.experimental.set_visible_devices([], 'GPU')\n",
    "\n",
    "\n",
    "\n",
    "# Train the model, doing validation at the end of each epoch.\n",
    "epochs = 2\n",
    "fashion_train_dropout = model.fit(train_X, train_label, batch_size=batch_size,epochs=epochs,callbacks = callbacks,validation_data=(valid_X, valid_label), verbose = 1)\n",
    "\n",
    "'''This added code will save the model so that you can directly load it and not have to train it again \n",
    "for 20 epochs. This way, you can load the model later on if you need it and modify the architecture;'''\n",
    "model.save(\"gan_model_t10_128_logits.h5py\")\n"
   ]
  },
  {
   "cell_type": "code",
   "execution_count": 41,
   "id": "sustainable-mediterranean",
   "metadata": {},
   "outputs": [
    {
     "name": "stdout",
     "output_type": "stream",
     "text": [
      "100/100 [==============================] - 3s 34ms/step\n",
      "Test loss: [0.6118922710418702, 0.9429516792297363]\n"
     ]
    }
   ],
   "source": [
    "#ACCURACY, OVERFITTING?\n",
    "\n",
    "'''Before, with no dropouts, after 20 epochs the training accuracy was 99% and the training loss was quite low.\n",
    "\n",
    "It appeared that the model was overfitting, as the validation loss is 0.4396 and the validation accuracy was 92%. \n",
    "Overfitting generally corresponds to the network having memorized the training data very well but is \n",
    "not guaranteed to work on unseen data, and that is why there was a difference in the training and validation \n",
    "accuracy.\n",
    "\n",
    "Here the training accuracy is 92.5% and the validation accuracy is 92.8%, indicating that the model does not \n",
    "overfit the dsta\n",
    "\n",
    "Model Evaluation on the Test Set'''\n",
    "#Model Evaluation Code:\n",
    "test_eval = model.evaluate(test_X, test_Y.reshape(-1,128,128,1), verbose=1)  #changed to verbose=1 to show progress\n",
    "print('Test loss:', test_eval)\n",
    "# print('Test accuracy:', test_eval[1])"
   ]
  },
  {
   "cell_type": "code",
   "execution_count": 42,
   "id": "pending-petroleum",
   "metadata": {},
   "outputs": [
    {
     "data": {
      "image/png": "[encoded data removed]",
      "text/plain": [
       "<Figure size 432x288 with 1 Axes>"
      ]
     },
     "metadata": {
      "needs_background": "light"
     },
     "output_type": "display_data"
    },
    {
     "data": {
      "image/png": "[encoded data removed]",
      "text/plain": [
       "<Figure size 432x288 with 1 Axes>"
      ]
     },
     "metadata": {
      "needs_background": "light"
     },
     "output_type": "display_data"
    }
   ],
   "source": [
    "\n",
    "#accuracy = fashion_train_dropout.history['acc']\n",
    "#val_accuracy = fashion_train_dropout.history['val_acc']\n",
    "accuracy = fashion_train_dropout.history['accuracy']\n",
    "val_accuracy = fashion_train_dropout.history['val_accuracy']\n",
    "# fashion_train_dropout.history\n",
    "\n",
    "loss = fashion_train_dropout.history['loss']\n",
    "val_loss = fashion_train_dropout.history['val_loss']\n",
    "epochs = range(len(accuracy))\n",
    "plt.plot(epochs, accuracy, 'bo', label='Training accuracy')\n",
    "plt.plot(epochs, val_accuracy, 'b', label='Validation accuracy')\n",
    "plt.title('Training and validation accuracy')\n",
    "# plt.legend()\n",
    "plt.figure()\n",
    "plt.plot(epochs, loss, 'bo', label='Training loss')\n",
    "plt.plot(epochs, val_loss, 'b', label='Validation loss')\n",
    "plt.title('Training and validation loss')\n",
    "plt.legend()\n",
    "plt.show()\n",
    "\n"
   ]
  },
  {
   "cell_type": "code",
   "execution_count": 43,
   "id": "e3129585",
   "metadata": {},
   "outputs": [],
   "source": [
    "val_preds = model.predict(train_X.reshape(-1,128,128,1))\n"
   ]
  },
  {
   "cell_type": "code",
   "execution_count": 49,
   "id": "applied-attack",
   "metadata": {},
   "outputs": [
    {
     "data": {
      "image/png": "[encoded data removed]",
      "text/plain": [
       "<PIL.Image.Image image mode=L size=128x128 at 0x7FA758EC0ED0>"
      ]
     },
     "metadata": {},
     "output_type": "display_data"
    },
    {
     "data": {
      "text/plain": [
       "<matplotlib.colorbar.Colorbar at 0x7fa759458210>"
      ]
     },
     "execution_count": 49,
     "metadata": {},
     "output_type": "execute_result"
    },
    {
     "data": {
      "image/png": "[encoded data removed]",
      "text/plain": [
       "<Figure size 432x288 with 1 Axes>"
      ]
     },
     "metadata": {
      "needs_background": "light"
     },
     "output_type": "display_data"
    },
    {
     "data": {
      "text/plain": [
       "<Figure size 432x288 with 0 Axes>"
      ]
     },
     "metadata": {},
     "output_type": "display_data"
    },
    {
     "data": {
      "image/png": "[encoded data removed]",
      "text/plain": [
       "<Figure size 432x288 with 2 Axes>"
      ]
     },
     "metadata": {
      "needs_background": "light"
     },
     "output_type": "display_data"
    }
   ],
   "source": [
    "testInd = 100\n",
    "\n",
    "def display_mask(i):\n",
    "    \"\"\"Quick utility to display a model's prediction.\"\"\"\n",
    "    mask = np.argmax(val_preds[i], axis=-1)\n",
    "    mask = np.expand_dims(mask, axis=-1)\n",
    "    img = ImageOps.autocontrast(keras.preprocessing.image.array_to_img(mask))\n",
    "    plt.figure()\n",
    "    display(img)\n",
    "    # plt.imshow(img)\n",
    "\n",
    "# print(new_new[0,1,1,:])\n",
    "\n",
    "plt.figure()\n",
    "plt.imshow(train_X[testInd,:,:])\n",
    "# new_plot = np.zeros((128,128))\n",
    "# plt.figure()\n",
    "# for i in range(np.shape(new_new[0,:,:,0])[0]):\n",
    "#     for j in range(np.shape(new_new[0,:,:,0])[1]):\n",
    "        \n",
    "#         new_plot[i,j] = np.argwhere(new_new[0,i,j,0:2] == np.min(new_new[0,i,j,0:2]))[0][0]\n",
    "#         print(new_new[0,i,j,:])\n",
    "    \n",
    "# plt.imshow(new_plot)\n",
    "display_mask(testInd)\n",
    "# plt.imshow(new_new[0,:,:,1])\n",
    "# plt.imshow(new_new[0,:,:,2])\n",
    "\n",
    "plt.figure()\n",
    "plt.imshow(train_Y[testInd,:,:])\n",
    "plt.colorbar()\n",
    "\n",
    "# print(np.argwhere(new_new[0,0,0,:] == np.max(new_new[0,0,0,:]))[0][0])\n",
    "\n",
    "\n",
    "# np.sum(new_new[0,:,:,:],axis = 2)"
   ]
  }
 ],
 "metadata": {
  "kernelspec": {
   "display_name": "Python 3.7.9",
   "language": "python",
   "name": "python3"
  },
  "language_info": {
   "codemirror_mode": {
    "name": "ipython",
    "version": 3
   },
   "file_extension": ".py",
   "mimetype": "text/x-python",
   "name": "python",
   "nbconvert_exporter": "python",
   "pygments_lexer": "ipython3",
   "version": "3.7.9"
  },
  "vscode": {
   "interpreter": {
    "hash": "d87f6dd43308de36d383a73b23169578940765767467467d5201302e0c269532"
   }
  }
 },
 "nbformat": 4,
 "nbformat_minor": 5
}
